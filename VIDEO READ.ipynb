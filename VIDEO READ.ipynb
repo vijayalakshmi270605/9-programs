{
 "cells": [
  {
   "cell_type": "code",
   "execution_count": null,
   "id": "4622353e",
   "metadata": {},
   "outputs": [],
   "source": [
    "import cv2\n",
    "import numpy as np"
   ]
  },
  {
   "cell_type": "code",
   "execution_count": null,
   "id": "bf0d5e33",
   "metadata": {},
   "outputs": [],
   "source": [
    "view=cv2.VideoCapture(\"PUP.mp4\")"
   ]
  },
  {
   "cell_type": "code",
   "execution_count": null,
   "id": "d48e997f",
   "metadata": {},
   "outputs": [],
   "source": [
    "view"
   ]
  },
  {
   "cell_type": "code",
   "execution_count": null,
   "id": "9a35dce3",
   "metadata": {},
   "outputs": [],
   "source": [
    "while(view.isOpened()):\n",
    "    ret,frame=view.read()\n",
    "    cv2.imshow('origin',frame)\n",
    "    if cv2.waitKey(1)& 0xFF==ord('q'):\n",
    "        break\n",
    "view.release()\n",
    "cv2.destroyAllWindows()"
   ]
  },
  {
   "cell_type": "code",
   "execution_count": null,
   "id": "e1da7674",
   "metadata": {},
   "outputs": [],
   "source": [
    "while(view.isOpened()):\n",
    "    ret,frame=view.read()\n",
    "    gray=cv2.cvtColor(frame,cv2.COLOR_BGR2GRAY)\n",
    "    cv2.imshow('orign',gray)\n",
    "    cv2.imshow('Gray',gray)\n",
    "    if cv2.waitKey(1)& 0xFF==ord('q'):\n",
    "        break\n",
    "view.release()\n",
    "cv2.destroyAllWindows()"
   ]
  }
 ],
 "metadata": {
  "kernelspec": {
   "display_name": "Python 3 (ipykernel)",
   "language": "python",
   "name": "python3"
  },
  "language_info": {
   "codemirror_mode": {
    "name": "ipython",
    "version": 3
   },
   "file_extension": ".py",
   "mimetype": "text/x-python",
   "name": "python",
   "nbconvert_exporter": "python",
   "pygments_lexer": "ipython3",
   "version": "3.11.5"
  }
 },
 "nbformat": 4,
 "nbformat_minor": 5
}
