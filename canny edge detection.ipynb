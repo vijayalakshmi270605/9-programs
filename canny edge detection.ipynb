{
 "cells": [
  {
   "cell_type": "code",
   "execution_count": 1,
   "id": "ec683135",
   "metadata": {},
   "outputs": [],
   "source": [
    "import cv2\n",
    "import numpy as np"
   ]
  },
  {
   "cell_type": "code",
   "execution_count": 4,
   "id": "91ec664f",
   "metadata": {},
   "outputs": [],
   "source": [
    "img=cv2.imread(\"d1.jpg\",0)\n"
   ]
  },
  {
   "cell_type": "code",
   "execution_count": 5,
   "id": "779c6b1d",
   "metadata": {},
   "outputs": [
    {
     "data": {
      "text/plain": [
       "array([[104, 104, 105, ..., 110, 109, 109],\n",
       "       [105, 105, 105, ..., 111, 110, 109],\n",
       "       [105, 106, 106, ..., 111, 111, 110],\n",
       "       ...,\n",
       "       [100, 100, 101, ..., 106, 105, 104],\n",
       "       [100, 101, 101, ..., 105, 104, 103],\n",
       "       [101, 101, 102, ..., 104, 103, 102]], dtype=uint8)"
      ]
     },
     "execution_count": 5,
     "metadata": {},
     "output_type": "execute_result"
    }
   ],
   "source": [
    "img"
   ]
  },
  {
   "cell_type": "code",
   "execution_count": 6,
   "id": "fd03e4f8",
   "metadata": {},
   "outputs": [],
   "source": [
    "canny=cv2.Canny(img,40,200)"
   ]
  },
  {
   "cell_type": "code",
   "execution_count": 7,
   "id": "c40839a2",
   "metadata": {},
   "outputs": [],
   "source": [
    "cv2.imshow('original',img)\n",
    "cv2.imshow('CANNY',canny)\n",
    "cv2.waitKey(0)\n",
    "cv2.destroyAllWindows()"
   ]
  },
  {
   "cell_type": "code",
   "execution_count": null,
   "id": "bf942d00",
   "metadata": {},
   "outputs": [],
   "source": []
  }
 ],
 "metadata": {
  "kernelspec": {
   "display_name": "Python 3 (ipykernel)",
   "language": "python",
   "name": "python3"
  },
  "language_info": {
   "codemirror_mode": {
    "name": "ipython",
    "version": 3
   },
   "file_extension": ".py",
   "mimetype": "text/x-python",
   "name": "python",
   "nbconvert_exporter": "python",
   "pygments_lexer": "ipython3",
   "version": "3.11.5"
  }
 },
 "nbformat": 4,
 "nbformat_minor": 5
}
